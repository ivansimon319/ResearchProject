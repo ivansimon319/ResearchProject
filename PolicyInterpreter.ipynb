{
  "nbformat": 4,
  "nbformat_minor": 0,
  "metadata": {
    "colab": {
      "provenance": [],
      "collapsed_sections": [
        "UGnQaGiuSBGe"
      ]
    },
    "kernelspec": {
      "name": "python3",
      "display_name": "Python 3"
    },
    "language_info": {
      "name": "python"
    }
  },
  "cells": [
    {
      "cell_type": "markdown",
      "source": [
        "#### Mount the google drive to import the model configuration"
      ],
      "metadata": {
        "id": "UGnQaGiuSBGe"
      }
    },
    {
      "cell_type": "code",
      "source": [
        "# to mount the drive\n",
        "def mountDrive(force_remount=True):\n",
        "    from google.colab import drive\n",
        "    print('drive_filepath=\"drive/My Drive/\"')\n",
        "    return drive.mount('/content/drive', force_remount=force_remount)\n",
        "\n",
        "mountDrive()"
      ],
      "metadata": {
        "id": "RIRt5xaGS69w",
        "colab": {
          "base_uri": "https://localhost:8080/"
        },
        "outputId": "0f316c7e-715e-489e-9eb3-95f975ba212c"
      },
      "execution_count": null,
      "outputs": [
        {
          "output_type": "stream",
          "name": "stdout",
          "text": [
            "drive_filepath=\"drive/My Drive/\"\n",
            "Mounted at /content/drive\n"
          ]
        }
      ]
    },
    {
      "cell_type": "markdown",
      "source": [
        "#### Scraping the privacy policy"
      ],
      "metadata": {
        "id": "RIPFLdmNpT1F"
      }
    },
    {
      "cell_type": "code",
      "execution_count": null,
      "metadata": {
        "id": "YF1rbQRXpON3"
      },
      "outputs": [],
      "source": [
        "%%capture\n",
        "!pip install selenium\n",
        "!pip install lxml\n",
        "!apt-get update \n",
        "!apt install chromium-chromedriver\n",
        "\n",
        "!pip install nltk\n",
        "\n",
        "!pip install transformers\n",
        "!pip install torch\n",
        "!pip install datasets"
      ]
    },
    {
      "cell_type": "code",
      "source": [
        "#import nltk\n",
        "#from nltk.corpus import stopwords\n",
        "from nltk.cluster.util import cosine_distance\n",
        "#import numpy as np\n",
        "import networkx as nx\n",
        "#import pandas as pd\n",
        "#from google.colab import drive\n",
        "nltk.download('stopwords')"
      ],
      "metadata": {
        "id": "F3tLZhEq59s4"
      },
      "execution_count": null,
      "outputs": []
    },
    {
      "cell_type": "code",
      "source": [
        "nltk.download('punkt')"
      ],
      "metadata": {
        "id": "JVHPYhGo_bqu"
      },
      "execution_count": null,
      "outputs": []
    },
    {
      "cell_type": "code",
      "source": [
        "%%capture\n",
        "##libraries used\n",
        "\n",
        "from bs4 import BeautifulSoup\n",
        "from selenium import webdriver\n",
        "from selenium.webdriver.common.by import By\n",
        "from selenium.webdriver.chrome.options import Options\n",
        "from selenium.webdriver.support.ui import WebDriverWait\n",
        "\n",
        "#import pandas as pd\n",
        "import re\n",
        "import string\n",
        "import nltk\n",
        "from nltk.tokenize import word_tokenize\n",
        "from nltk.corpus import stopwords\n",
        "from nltk.corpus import brown\n",
        "# nltk.download('punkt')\n",
        "# nltk.download('stopwords')\n",
        "# nltk.download('brown')\n",
        "\n",
        "\n",
        "#import pandas as pd\n",
        "#import re\n",
        "import string\n",
        "import os\n",
        "import numpy as np\n",
        "import torch\n",
        "import transformers\n",
        "from datasets import load_dataset, Dataset, load_from_disk\n",
        "#from google.colab import drive\n",
        "#import csv\n",
        "\n",
        "from transformers import AutoTokenizer\n",
        "from transformers import TFAutoModelForSequenceClassification\n",
        "import tensorflow as tf\n",
        "#from transformers import DataCollatorWithPadding\n",
        "#from transformers import create_optimizer\n",
        "from datasets import load_metric\n",
        "#import datasets\n",
        "#from transformers.keras_callbacks import KerasMetricCallback\n",
        "\n",
        "#import nltk\n",
        "#from nltk.corpus import stopwords\n",
        "from nltk.cluster.util import cosine_distance\n",
        "from nltk import sent_tokenize\n",
        "#import numpy as np\n",
        "import networkx as nx\n",
        "#import pandas as pd\n",
        "\n",
        "nltk.download('punkt')\n",
        "nltk.download('stopwords')"
      ],
      "metadata": {
        "id": "IE5_1mEqpgYS"
      },
      "execution_count": null,
      "outputs": []
    },
    {
      "cell_type": "code",
      "source": [
        "# # to mount the drive\n",
        "\n",
        "# def mountDrive(force_remount=True):\n",
        "#     from google.colab import drive\n",
        "#     print('drive_filepath=\"drive/My Drive/\"')\n",
        "#     return drive.mount('/content/drive', force_remount=force_remount)"
      ],
      "metadata": {
        "id": "Yd044jdfpv4X"
      },
      "execution_count": null,
      "outputs": []
    },
    {
      "cell_type": "code",
      "source": [
        "# to scrape the policy using headless browser and beautiful soup\n",
        "\n",
        "def scrapeUrl(url):\n",
        "  #url = \"https://www.whatsapp.com/legal/privacy-policy\"\n",
        "  \n",
        "  options = Options()\n",
        "  options.add_argument(\"--window-size=1920,1200\")\n",
        "  options.add_argument('--headless')\n",
        "  options.add_argument('--no-sandbox')\n",
        "  options.add_argument('--disable-dev-shm-usage')\n",
        "\n",
        "  #to avoid loading images\n",
        "  chrome_options = webdriver.ChromeOptions()\n",
        "  chrome_options.add_experimental_option(\"prefs\", {\"profile.managed_default_content_settings.images\": 2})\n",
        "  \n",
        "  driver = webdriver.Chrome('chromedriver',chrome_options=options)\n",
        "  driver.get(url) \n",
        "\n",
        "  soup = BeautifulSoup(driver.page_source, 'lxml') \n",
        "\n",
        "  rawPageData = []\n",
        "  for data in soup.find_all(['p','li']): \n",
        "    rawPageData.append(data.get_text())\n",
        "\n",
        "  #pageData = list(set(rawPageData))\n",
        "  \n",
        "  return rawPageData #pageData"
      ],
      "metadata": {
        "id": "ISEUI-tlp51g"
      },
      "execution_count": null,
      "outputs": []
    },
    {
      "cell_type": "markdown",
      "source": [
        "#### Pre-processing the scraped data"
      ],
      "metadata": {
        "id": "F8thIU77sdA5"
      }
    },
    {
      "cell_type": "code",
      "source": [
        "%%capture\n",
        "!pip install nltk"
      ],
      "metadata": {
        "id": "B62nn-fhvO7n"
      },
      "execution_count": null,
      "outputs": []
    },
    {
      "cell_type": "code",
      "source": [
        "%%capture\n",
        "import pandas as pd\n",
        "import re\n",
        "import string\n",
        "from nltk.tokenize import word_tokenize\n",
        "import nltk\n",
        "from nltk.corpus import stopwords\n",
        "from nltk.corpus import brown\n",
        "nltk.download('punkt')\n",
        "nltk.download('stopwords')\n",
        "nltk.download('brown')\n",
        "#from nltk.corpus import punkt\n"
      ],
      "metadata": {
        "id": "JtuxSlaWsivs"
      },
      "execution_count": null,
      "outputs": []
    },
    {
      "cell_type": "code",
      "source": [
        "def minPreProcess(inputData):\n",
        "  data = []\n",
        "  [data.append(x) for x in inputData if x not in data]\n",
        "\n",
        "  clData = []\n",
        "  for element in data:\n",
        "    if element.count(\" \") > 1:\n",
        "      clData.append(element)\n",
        "  \n",
        "  return clData"
      ],
      "metadata": {
        "id": "-K6aZj4E5zgw"
      },
      "execution_count": null,
      "outputs": []
    },
    {
      "cell_type": "markdown",
      "source": [
        "#### Text Classification"
      ],
      "metadata": {
        "id": "lUgUZXTVTpYd"
      }
    },
    {
      "cell_type": "code",
      "source": [
        "%%capture\n",
        "!pip install transformers\n",
        "!pip install torch\n",
        "!pip install datasets"
      ],
      "metadata": {
        "id": "Ez6Pe_CQTuSE"
      },
      "execution_count": null,
      "outputs": []
    },
    {
      "cell_type": "code",
      "source": [
        "%%capture\n",
        "#Required Libraries\n",
        "\n",
        "#import pandas as pd\n",
        "#import re\n",
        "import numpy as np\n",
        "#import torch\n",
        "import transformers\n",
        "from datasets import load_dataset, Dataset, load_from_disk\n",
        "import string\n",
        "import os\n",
        "from google.colab import drive\n",
        "#import csv\n",
        "\n",
        "from transformers import AutoTokenizer\n",
        "from transformers import TFAutoModelForSequenceClassification\n",
        "import tensorflow as tf\n",
        "#from transformers import DataCollatorWithPadding\n",
        "#from transformers import create_optimizer\n",
        "from datasets import load_metric\n",
        "#import datasets\n",
        "#from transformers.keras_callbacks import KerasMetricCallback"
      ],
      "metadata": {
        "id": "rpChz0meT3Eb"
      },
      "execution_count": null,
      "outputs": []
    },
    {
      "cell_type": "code",
      "source": [
        "def display(result):\n",
        "  id2Label = {0: 'Data Retention', 1: 'Data Security', 2: 'Do Not Track', 3: 'First Party Collection/Use',\n",
        "                     4: 'International and Specific Audiences', 5: 'Introductory/Generic', 6: 'Policy Change',\n",
        "                     7: 'Practice not covered', 8:'Privacy contact information', 9: 'Third Party Sharing/Collection',\n",
        "                     10: 'User Access, Edit and Deletion', 11: 'User Choice/Control'}\n",
        "  \n",
        "  joinedResult= dict()\n",
        "\n",
        "  for key in result.keys():\n",
        "    \n",
        "    print(str(id2Label[key]) + \"\\n\")\n",
        "    print('\\n'.join(map(str, result[key])))\n",
        "\n",
        "    temp = ''.join(map(str, result[key]))\n",
        "    joinedResult[id2Label[key]] = temp\n",
        "    print(\"\\n\")\n",
        "    \n",
        "  return joinedResult"
      ],
      "metadata": {
        "id": "JiKNNW6IVkaZ"
      },
      "execution_count": null,
      "outputs": []
    },
    {
      "cell_type": "code",
      "source": [
        "def customizer(select):\n",
        "  userOptions = dict()\n",
        "  userOptions[\"old male\"] = [6,3,9,11,1]\n",
        "  userOptions[\"young male\"] = [7,1,4,5]\n",
        "  userOptions[\"young female\"] = [7,6,1,4]\n",
        "  userOptions[\"old female\"] = [9,3,9,11,1]\n",
        "\n",
        "  return userOptions[select]"
      ],
      "metadata": {
        "id": "aGqGZUqKW2kf"
      },
      "execution_count": null,
      "outputs": []
    },
    {
      "cell_type": "code",
      "source": [
        "def classificationModel(datatoClassify, userType):\n",
        "  # retreive the saved model \n",
        "  model_dir = '/content/drive/My Drive/Colab Notebooks/models/'\n",
        "  num_labels = 12\n",
        "    \n",
        "  checkpoint = \"mukund/privbert\"\n",
        "  tokenizer = AutoTokenizer.from_pretrained(checkpoint)\n",
        "\n",
        "  # For cleaner label outputs\n",
        "  id2Label = {0: 'Data Retention', 1: 'Data Security', 2: 'Do Not Track', 3: 'First Party Collection/Use',\n",
        "              4: 'International and Specific Audiences', 5: 'Introductory/Generic', 6: 'Policy Change',\n",
        "              7: 'Practice not covered', 8:'Privacy contact information', 9: 'Third Party Sharing/Collection',\n",
        "              10: 'User Access, Edit and Deletion', 11: 'User Choice/Control'}\n",
        "             \n",
        "  #saving the index of each label\n",
        "  label2id = {val: key for key, val in id2Label.items()}\n",
        "\n",
        "  '''the sequence classification head of the tranformer library is used to import the PrivBERT model \n",
        "    with mappings of the label'''\n",
        "  model = TFAutoModelForSequenceClassification.from_pretrained(\n",
        "      model_dir + 'pi', num_labels=num_labels, id2label=id2Label, label2id=label2id, local_files_only=True)\n",
        "  \n",
        "  user = customizer(userType)\n",
        "  #to save the output\n",
        "  result = dict()\n",
        "  \n",
        "  for i in range(len(datatoClassify)) :\n",
        "\n",
        "    #print(datatoClassify[i])\n",
        "    \n",
        "    tokenized = tokenizer(str(datatoClassify[i]), return_tensors=\"np\", padding=\"longest\")\n",
        "    \n",
        "    # outputs = model(tokenized).logits\n",
        "    outputs = model(tokenized).logits\n",
        "    classificationsEncoded = np.argmax(outputs, axis=1)\n",
        "\n",
        "    #print(classificationsEncoded)\n",
        "    classifications = [model.config.id2label[output] for output in classificationsEncoded]\n",
        "    \n",
        "    #print(classifications)\n",
        "    \n",
        "    if int(classificationsEncoded) in user:\n",
        "      \n",
        "      if int(classificationsEncoded) not in result.keys():\n",
        "       result[int(classificationsEncoded)]= []\n",
        "      \n",
        "      result[int(classificationsEncoded)].append(datatoClassify[i])\n",
        "  \n",
        "  return result "
      ],
      "metadata": {
        "id": "Vf1PigIGUVwY"
      },
      "execution_count": null,
      "outputs": []
    },
    {
      "cell_type": "markdown",
      "source": [
        "#### Segment Summarization"
      ],
      "metadata": {
        "id": "Ecqu3VFfdR9H"
      }
    },
    {
      "cell_type": "code",
      "source": [
        "%%capture\n",
        "#import nltk\n",
        "#from nltk.corpus import stopwords\n",
        "from nltk.cluster.util import cosine_distance\n",
        "#import numpy as np\n",
        "import networkx as nx\n",
        "#import pandas as pd\n",
        "#from google.colab import drive\n",
        "nltk.download('stopwords')"
      ],
      "metadata": {
        "id": "ll6J7aOVdgpW"
      },
      "execution_count": null,
      "outputs": []
    },
    {
      "cell_type": "code",
      "source": [
        "def segmentToTokens(segments):\n",
        "  temp2 = [word_tokenize(t) for t in sent_tokenize(segments)]\n",
        "  return temp2"
      ],
      "metadata": {
        "id": "rJRyT-onekuE"
      },
      "execution_count": null,
      "outputs": []
    },
    {
      "cell_type": "code",
      "source": [
        "def sentenceSimilarity(s1, s2, stopWords=None):\n",
        "  if stopWords is None:\n",
        "    stopWords = []\n",
        "  s1 = [w.lower() for w in s1]    \n",
        "  s2 = [w.lower() for w in s2]     \n",
        "  wordList = list(set(s1 + s2))    \n",
        "  vec1 = [0] * len(wordList)    \n",
        "  vec2 = [0] * len(wordList)     \n",
        "  \n",
        "  # build the vector for the first sentence   \n",
        "  for word in s1:\n",
        "    if word in stopWords:\n",
        "      continue        \n",
        "    vec1[wordList.index(word)] += 1     \n",
        "\n",
        "# build the vector for the second sentence    \n",
        "  for w in s2:        \n",
        "    if w in stopWords:           \n",
        "      continue        \n",
        "    vec2[wordList.index(w)] += 1     \n",
        "  \n",
        "  return 1 - cosine_distance(vec1,  vec2)"
      ],
      "metadata": {
        "id": "dH9GrQUohcnw"
      },
      "execution_count": null,
      "outputs": []
    },
    {
      "cell_type": "code",
      "source": [
        "def similarityMatrix(sentences, stopWords):\n",
        "  similarityMtrx = np.zeros((len(sentences), len(sentences)))\n",
        "\n",
        "  for i in range(len(sentences)):\n",
        "    for j in range(len(sentences)):\n",
        "      if not i == j:\n",
        "        similarityMtrx[i][j] = sentenceSimilarity(sentences[i], sentences[j], stopWords)\n",
        "  return similarityMtrx"
      ],
      "metadata": {
        "id": "BPk6FdfBp4sQ"
      },
      "execution_count": null,
      "outputs": []
    },
    {
      "cell_type": "code",
      "source": [
        "def summarizer(sentences, length):\n",
        "  stopWords = stopwords.words('english')\n",
        "  summarizedText = []\n",
        "  similarityMtrx = similarityMatrix(sentences, stopWords)\n",
        "  similarityGraph = nx.from_numpy_array(similarityMtrx)\n",
        "  scores = nx.pagerank(similarityGraph)\n",
        "  ranks = sorted(((scores[i],s) for i,s in enumerate(sentences)), reverse=True)\n",
        "  print(\"Indexes of top rank order are \", ranks)\n",
        "  for i in range(length):\n",
        "    if ranks[i][1] != ranks[(i+1)][1]:\n",
        "      summarizedText.append(\" \".join(ranks[i][1]))\n",
        "  summary = \" \".join(summarizedText)\n",
        "  return summary"
      ],
      "metadata": {
        "id": "WKL1V-rMg1Gy"
      },
      "execution_count": null,
      "outputs": []
    },
    {
      "cell_type": "code",
      "source": [
        "def displayOutput(opt, user):\n",
        "  id2Label = {0: 'Data Retention', 1: 'Data Security', 2: 'Do Not Track', 3: 'First Party Collection/Use',\n",
        "              4: 'International and Specific Audiences', 5: 'Introductory/Generic', 6: 'Policy Change',\n",
        "              7: 'Practice not covered', 8:'Privacy contact information', 9: 'Third Party Sharing/Collection',\n",
        "              10: 'User Access, Edit and Deletion', 11: 'User Choice/Control'}\n",
        "\n",
        "  print(user.upper() + \"\\n\")\n",
        "\n",
        "  userType = customizer(user)\n",
        "\n",
        "  for key in opt.keys():\n",
        "    print(key)\n",
        "    print(opt[key].replace('/\\s+/',' ',).strip())\n",
        "    print(\"\\n\")\n",
        "  for k1 in userType:\n",
        "    if id2Label[k1] not in opt.keys():\n",
        "      print(id2Label[k1] + \"\\nNo data present.\\n\")\n",
        "\n"
      ],
      "metadata": {
        "id": "MKrikzTu2Cnl"
      },
      "execution_count": null,
      "outputs": []
    },
    {
      "cell_type": "code",
      "source": [
        "def countWords(stage, content):\n",
        "  count = 0\n",
        "  if stage == \"ini\":\n",
        "    for i in content:\n",
        "      count = count + len(i.split())\n",
        "  else :  \n",
        "    for key in content.keys():\n",
        "      count = count + len(opt[key].split())\n",
        "  \n",
        "  return count"
      ],
      "metadata": {
        "id": "fJI10Gz_8m_Q"
      },
      "execution_count": null,
      "outputs": []
    },
    {
      "cell_type": "markdown",
      "source": [
        "#### Main"
      ],
      "metadata": {
        "id": "wurzstiwrJpX"
      }
    },
    {
      "cell_type": "code",
      "source": [
        "#please input a user type  among : \"young male\", \"old male\", \"young female\", \"old female\"\n",
        "user = \"old male\"\n",
        "\n",
        "#please enter the url of the privacy policy\n",
        "#url = \"https://huggingface.co/privacy\"\n",
        "#url = \"https://stackoverflow.com/legal/privacy-policy\"\n",
        "#url = \"https://policies.google.com/privacy?\"\n",
        "#url = \"https://www.linkedin.com/legal/privacy-policy\" nw \n",
        "#url = \"https://meta.wikimedia.org/wiki/Privacy_policy\"\n",
        "#url = \"https://www.apple.com/legal/privacy/en-ww/\" nw\n",
        "#url = \"https://www.samsung.com/au/info/privacy/\" nw\n",
        "#url = \"https://legal.yahoo.com/au/en/yahoo/privacy/products/searchservices/index.html\"\n",
        "url = \"https://docs.github.com/en/site-policy/privacy-policies/github-privacy-statement\""
      ],
      "metadata": {
        "id": "dr2Lelcq-ftR"
      },
      "execution_count": null,
      "outputs": []
    },
    {
      "cell_type": "code",
      "source": [
        "rawData = scrapeUrl(url)"
      ],
      "metadata": {
        "id": "A-TzZGzYrCWb",
        "colab": {
          "base_uri": "https://localhost:8080/"
        },
        "outputId": "84086728-5575-43c5-a726-6ae71d36f0c0"
      },
      "execution_count": null,
      "outputs": [
        {
          "output_type": "stream",
          "name": "stderr",
          "text": [
            "/usr/local/lib/python3.7/dist-packages/ipykernel_launcher.py:16: DeprecationWarning: use options instead of chrome_options\n",
            "  app.launch_new_instance()\n"
          ]
        }
      ]
    },
    {
      "cell_type": "code",
      "source": [
        "rawData"
      ],
      "metadata": {
        "id": "uRMpI9-a0jL5"
      },
      "execution_count": null,
      "outputs": []
    },
    {
      "cell_type": "code",
      "source": [
        "dataForClassification = minPreProcess(rawData)"
      ],
      "metadata": {
        "id": "ruMrIr7M6RQU"
      },
      "execution_count": null,
      "outputs": []
    },
    {
      "cell_type": "code",
      "source": [
        "dataForClassification"
      ],
      "metadata": {
        "id": "HNtDGr7i0wzP"
      },
      "execution_count": null,
      "outputs": []
    },
    {
      "cell_type": "code",
      "source": [
        "dataAfterClassification = dict()\n",
        "dataAfterClassification = classificationModel(dataForClassification, user)"
      ],
      "metadata": {
        "id": "BNzj7QJs35N6"
      },
      "execution_count": null,
      "outputs": []
    },
    {
      "cell_type": "code",
      "source": [
        "joinedData = display(dataAfterClassification)"
      ],
      "metadata": {
        "id": "LyfgxSPH399s"
      },
      "execution_count": null,
      "outputs": []
    },
    {
      "cell_type": "code",
      "source": [
        "opt = dict()\n",
        "for key in joinedData.keys():\n",
        "  seg = segmentToTokens(joinedData[key])\n",
        "  if len(seg) > 5:\n",
        "    opt[key] = summarizer(seg,5)\n",
        "  else :\n",
        "    opt[key] = joinedData[key]\n"
      ],
      "metadata": {
        "id": "nmUXbd36kYN-",
        "colab": {
          "base_uri": "https://localhost:8080/"
        },
        "outputId": "47e9ba71-a30d-4909-8e2e-4683374e4a69"
      },
      "execution_count": null,
      "outputs": [
        {
          "output_type": "stream",
          "name": "stdout",
          "text": [
            "Indexes of top rank order are  [(0.030795350483541328, ['For', 'example', ',', 'our', 'service', 'providers', 'may', 'perform', 'payment', 'processing', ',', 'customer', 'support', 'ticketing', ',', 'network', 'data', 'transmission', ',', 'web', 'analytics', ',', 'marketing', 'operations', ',', 'security', ',', 'and', 'other', 'similar', 'services', '.']), (0.03056572037826964, ['We', 'enable', 'access', 'to', 'personal', 'data', 'across', 'our', 'subsidiaries', ',', 'affiliates', ',', 'and', 'related', 'companies', ',', 'for', 'example', ',', 'where', 'we', 'share', 'common', 'data', 'systems', ',', 'when', 'affiliates', 'provide', 'services', 'on', 'our', 'behalf', ',', 'or', 'where', 'access', 'is', 'needed', 'to', 'operate', 'and', 'provide', 'the', 'Service', '.']), (0.030444423631045908, ['For', 'example', ',', 'this', 'may', 'happen', 'if', 'you', 'sign', 'up', 'for', 'training', 'or', 'to', 'receive', 'information', 'about', 'GitHub', 'from', 'one', 'of', 'our', 'vendors', ',', 'partners', ',', 'or', 'affiliates', '.']), (0.030186227663293964, ['For', 'example', ',', 'our', 'analytics', 'and', 'advertising', 'partners', 'may', 'use', 'these', 'technologies', 'in', 'our', 'Services', 'to', 'collect', 'personal', 'information', '(', 'such', 'as', 'the', 'pages', 'you', 'visit', ',', 'the', 'links', 'you', 'click', 'on', ',', 'and', 'similar', 'usage', 'information', ',', 'identifiers', ',', 'and', 'device', 'information', ')', 'related', 'to', 'your', 'online', 'activities', 'over', 'time', 'and', 'across', 'Services', 'for', 'various', 'purposes', ',', 'including', 'targeted', 'advertising', '.']), (0.029613583124054033, ['In', 'addition', ',', 'we', 'may', 'share', 'each', 'of', 'the', 'categories', 'of', 'your', 'personal', 'data', 'described', 'above', 'with', 'the', 'types', 'of', 'third', 'parties', 'described', 'below', 'for', 'the', 'following', 'business', 'purposes', ':', 'Please', 'note', 'that', 'if', 'you', 'would', 'like', 'to', 'compile', 'GitHub', 'data', ',', 'you', 'must', 'comply', 'with', 'our', 'Terms', 'of', 'Service', 'regarding', 'information', 'usage', 'and', 'privacy', ',', 'and', 'you', 'may', 'only', 'use', 'any', 'public-facing', 'information', 'you', 'gather', 'for', 'the', 'purpose', 'for', 'which', 'our', 'user', 'authorized', 'it', '.']), (0.029238255078776497, ['Additionally', ',', 'you', 'may', 'direct', 'us', 'through', 'your', 'actions', 'on', 'GitHub', 'to', 'share', 'your', 'personal', 'data', '.']), (0.029074887053653877, ['When', 'visiting', 'Enterprise', 'Marketing', 'pages', ',', 'like', 'resources.github.com', ',', 'on', 'a', 'mobile', 'device', 'these', 'may', 'allow', 'us', 'and', 'our', 'third-party', 'analytics', 'and', 'advertising', 'partners', 'to', 'collect', 'data', 'for', 'sales', 'and', 'marketing', 'purposes.The', 'GitHub', 'Services', 'use', 'cookies', 'and', 'similar', 'technologies', 'for', 'a', 'variety', 'of', 'purposes', ',', 'including', 'to', 'store', 'your', 'preferences', 'and', 'settings', ',', 'enable', 'you', 'to', 'sign-in', ',', 'analyze', 'how', 'our', 'Services', 'perform', ',', 'track', 'your', 'interaction', 'with', 'the', 'Services', ',', 'develop', 'inferences', ',', 'combat', 'fraud', ',', 'and', 'fulfill', 'other', 'legitimate', 'purposes', '.']), (0.029061088526479543, ['Please', 'contact', 'the', 'Account', 'owners', 'for', 'more', 'information', 'about', 'how', 'they', 'might', 'process', 'your', 'personal', 'data', 'in', 'their', 'Organization', 'and', 'the', 'ways', 'for', 'you', 'to', 'access', ',', 'update', ',', 'alter', ',', 'or', 'delete', 'your', 'personal', 'data', 'stored', 'in', 'the', 'Account', '.']), (0.029005050131716576, ['You', 'can', 'check', 'our', 'API', 'documentation', 'to', 'see', 'what', 'information', 'is', 'provided', 'when', 'you', 'authenticate', 'into', 'a', 'Developer', 'Product', 'using', 'your', 'GitHub', 'profile.You', 'may', 'indicate', ',', 'through', 'your', 'actions', 'on', 'GitHub', ',', 'that', 'you', 'are', 'willing', 'to', 'share', 'your', 'personal', 'data', '.']), (0.0281209488807593, ['We', 'expect', 'you', 'to', 'reasonably', 'secure', 'information', 'you', 'have', 'gathered', 'from', 'GitHub', ',', 'and', 'to', 'respond', 'promptly', 'to', 'complaints', ',', 'removal', 'requests', ',', 'and', '``', 'do', 'not', 'contact', \"''\", 'requests', 'from', 'GitHub', 'or', 'GitHub', 'users.We', 'share', 'your', 'personal', 'data', 'with', 'third', 'parties', 'when', 'you', 'tell', 'us', 'to', 'do', 'so', '.']), (0.028056343668036693, ['For', 'example', ',', 'where', 'a', 'GitHub', 'user', 'has', 'made', 'an', 'email', 'address', 'public-facing', 'for', 'the', 'purpose', 'of', 'identification', 'and', 'attribution', ',', 'do', 'not', 'use', 'that', 'email', 'address', 'for', 'the', 'purposes', 'of', 'sending', 'unsolicited', 'emails', 'to', 'users', 'or', 'selling', 'personal', 'information', ',', 'such', 'as', 'to', 'recruiters', ',', 'headhunters', ',', 'and', 'job', 'boards', ',', 'or', 'for', 'commercial', 'advertising', '.']), (0.028031448782071453, ['Information', 'you', 'store', 'in', ',', 'or', 'contribute', 'to', ',', 'a', 'public', 'repository', ',', 'provide', 'for', 'use', 'in', 'connection', 'with', 'a', 'Community', 'Feature', 'or', 'make', 'otherwise', 'publicly', 'available', 'through', 'the', 'Service', 'will', 'be', 'collected', 'by', 'GitHub', 'as', 'described', 'in', 'this', 'Privacy', 'Statement', '.']), (0.02760158400784287, ['In', 'such', 'cases', ',', 'GitHub', 'will', 'only', 'process', 'the', 'data', 'in', 'order', 'to', 'provide', 'the', 'Service', 'requested', 'by', 'you', '.']), (0.026631440677136388, ['We', 'will', 'disclose', 'personal', 'data', 'if', 'we', 'believe', 'it', 'is', 'necessary', 'to', ':', 'protect', 'our', 'customers', 'and', 'others', ',', 'for', 'example', 'to', 'prevent', 'spam', 'or', 'attempts', 'to', 'commit', 'fraud', ',', 'or', 'to', 'help', 'prevent', 'the', 'loss', 'of', 'life', 'or', 'serious', 'injury', 'of', 'anyone', ';', 'protect', 'the', 'rights', 'or', 'property', 'or', 'ourselves', 'or', 'others', ',', 'including', 'enforcing', 'our', 'agreements', ',', 'terms', ',', 'and', 'policies.GitHub', 'may', 'disclose', 'personal', 'data', 'or', 'other', 'information', 'we', 'collect', 'about', 'you', 'to', 'law', 'enforcement', 'or', 'other', 'governmental', 'agencies', 'if', 'required', 'in', 'response', 'to', 'a', 'valid', 'legal', 'process', '.']), (0.025547795263910985, ['If', 'you', 'collaborate', 'on', 'or', 'become', 'a', 'member', 'of', 'an', 'organization', ',', 'then', 'its', 'Account', 'owners', 'may', 'receive', 'your', 'personal', 'data', '.']), (0.025227417520580067, ['For', 'more', 'information', 'about', 'our', 'disclosure', 'in', 'response', 'to', 'legal', 'requests', ',', 'see', 'our', 'Guidelines', 'for', 'Legal', 'Requests', 'of', 'User', 'Data.We', 'may', 'share', 'your', 'personal', 'data', 'if', 'we', 'are', 'involved', 'in', 'a', 'merger', ',', 'sale', ',', 'or', 'acquisition', 'of', 'corporate', 'entities', 'or', 'business', 'units', 'as', 'described', 'in', 'this', 'Privacy', 'Statement.Finally', ',', 'we', 'may', 'share', 'de-identified', 'information', 'in', 'accordance', 'with', 'applicable', 'law.Web', 'beacons', 'are', 'electronic', 'images', '(', 'also', 'called', '“', 'single-pixel', '”', 'or', '“', 'clear', 'GIFs', '”', ')', 'that', 'are', 'contained', 'within', 'a', 'website', 'or', 'email', '.']), (0.024802242333091903, ['GitHub', 'will', 'place', 'non-essential', 'cookies', 'on', 'pages', 'where', 'we', 'market', 'products', 'and', 'services', 'to', 'enterprise', 'customers', ',', 'for', 'example', ',', 'on', 'resources.github.com', '.']), (0.024639579438058175, ['GitHub', 'Sponsors', 'Additional', 'TermsActive', 'Malware', 'or', 'ExploitsThreats', 'of', 'Violence', 'and', 'Gratuitously', 'Violent', 'ContentGitHub', 'Subprocessors', 'and', 'CookiesGitHub', 'acting', 'on', 'your', 'behalfIn', 'some', 'cases', ',', 'GitHub', 'is', 'acting', 'only', 'on', 'your', 'behalf', 'for', 'the', 'personal', 'data', 'we', 'collect', 'and', 'process', 'in', 'connection', 'with', 'our', 'Service', '(', 'for', 'example', ',', 'for', 'the', 'personal', 'data', 'added', 'to', 'a', 'repository', 'by', 'the', 'contributors', 'to', 'such', 'repository', ')', '.']), (0.02461624934366956, ['While', 'GitHub', 'processes', 'all', 'personal', 'data', 'in', 'the', 'United', 'States', ',', 'our', 'service', 'providers', 'may', 'process', 'data', 'outside', 'of', 'the', 'United', 'States', 'or', 'the', 'European', 'Union', '.']), (0.02447593943373718, ['GitHub', 'may', 'collect', 'personal', 'data', 'about', 'you', 'from', 'third', 'parties', '.']), (0.02403753892264566, ['Some', 'of', 'these', 'cookies', 'and', 'technologies', 'may', 'be', 'provided', 'by', 'third', 'parties', ',', 'including', 'service', 'providers', 'and', 'advertising', 'partners', '.']), (0.024006900218517358, ['We', 'share', 'personal', 'data', 'as', 'described', 'below', ',', 'including', 'with', 'your', 'consent', 'or', 'as', 'necessary', 'to', 'complete', 'your', 'transactions', 'or', 'provide', 'the', 'services', 'you', 'have', 'requested', 'or', 'authorized', '.']), (0.023704504916391207, ['When', 'you', 'accept', 'an', 'invitation', 'to', 'an', 'organization', ',', 'you', 'will', 'be', 'notified', 'of', 'the', 'types', 'of', 'information', 'owners', 'may', 'be', 'able', 'to', 'see', '(', 'for', 'more', 'information', ',', 'see', 'About', 'Organization', 'Membership', ')', '.']), (0.02333268858534142, ['We', 'may', 'also', 'receive', 'information', 'from', 'processors', 'or', 'service', 'providers', 'who', 'process', 'the', 'data', 'on', 'our', 'behalf', ',', 'such', 'as', 'our', 'payment', 'processor', 'who', 'process', 'payment', 'and', 'billing', 'information', 'in', 'connection', 'with', 'our', 'Service.Content', 'you', 'post', 'on', 'our', 'Service', '.']), (0.023207696198266837, ['We', 'share', 'your', 'personal', 'data', 'with', 'service', 'providers', 'who', 'process', 'the', 'information', 'on', 'our', 'behalf', 'to', 'provide', 'or', 'improve', 'our', 'Service', '.']), (0.022999421793708827, ['For', 'example', ',', 'if', 'you', 'purchase', 'an', 'application', 'listed', 'on', 'our', 'Marketplace', ',', 'we', 'share', 'your', 'username', 'to', 'allow', 'the', 'application', 'developer', 'to', 'provide', 'you', 'with', 'services', '.']), (0.022286418635356915, ['We', 'will', 'share', 'your', 'personal', 'data', 'with', 'such', 'third-party', 'applications', 'when', 'you', 'ask', 'us', 'to', ';', 'however', ',', 'you', 'are', 'responsible', 'for', 'your', 'use', 'of', 'the', 'third-party', 'Developer', 'Product', 'and', 'for', 'the', 'amount', 'of', 'personal', 'data', 'you', 'choose', 'to', 'share', 'with', 'it', '.']), (0.022182346369305554, ['In', 'the', 'same', 'way', ',', 'third-party', 'content', 'on', 'our', 'websites', '(', 'such', 'as', 'embedded', 'videos', ',', 'plug-ins', ',', 'or', 'ads', ')', 'results', 'in', 'your', 'browser', 'connecting', 'to', 'the', 'third-party', 'web', 'server', 'that', 'hosts', 'that', 'content', '.']), (0.022122294113331255, ['GitHub', 'does', 'not', 'purchase', 'personal', 'data', 'from', 'third-party', 'data', 'brokers', '.']), (0.021488312590733895, ['For', 'example', ',', 'if', 'you', 'join', 'an', 'Organization', ',', 'you', 'indicate', 'your', 'willingness', 'to', 'provide', 'the', 'owner', 'of', 'the', 'Organization', 'with', 'the', 'ability', 'to', 'view', 'your', 'activity', 'in', 'the', 'Organization', '’', 's', 'access', 'log.You', 'can', 'enable', 'or', 'add', 'third-party', 'applications', ',', 'known', 'as', '``', 'Developer', 'Products', \"''\", 'to', 'your', 'Account', '.']), (0.020410029597893273, ['For', 'more', 'information', ',', 'please', 'review', 'details', 'regarding', 'public', 'repositories', 'and', 'community', 'features', 'here.Co-branding/marketing', 'partners', '.']), (0.02012068764966175, ['We', 'may', 'also', 'obtain', 'information', 'from', 'publicly', 'available', 'sources', 'as', 'GitHub', 'repositories', '.']), (0.01964092341916081, ['Service', 'Providers', '.']), (0.019216437126232947, ['We', 'and/or', 'our', 'partners', 'also', 'share', 'the', 'information', 'we', 'collect', 'or', 'infer', 'with', 'third', 'parties', 'for', 'these', 'purposes.to', 'comply', 'with', 'our', 'legal', 'obligations', 'if', 'we', 'have', 'reason', 'to', 'believe', 'the', 'contents', 'are', 'in', 'violation', 'of', 'the', 'law', ',', 'or', 'with', 'your', 'consent', '.']), (0.01920190552013319, ['Such', 'information', 'may', 'also', 'be', 'available', 'to', 'the', 'GitHub', 'user', 'community', 'as', 'well', 'as', 'the', 'general', 'public', '.']), (0.017232462373803256, ['These', 'Developer', 'Products', 'are', 'not', 'necessary', 'for', 'your', 'use', 'of', 'GitHub', '.']), (0.01643780342240821, ['We', 'may', 'receive', 'information', 'from', 'partners', 'with', 'which', 'we', 'offer', 'co-branded', 'services', 'or', 'engage', 'in', 'joint', 'marketing', 'activities', '.']), (0.015104993471208967, ['When', 'your', 'browser', 'opens', 'a', 'webpage', 'or', 'email', 'that', 'contains', 'a', 'web', 'beacon', ',', 'it', 'automatically', 'connects', 'to', 'the', 'web', 'server', 'that', 'hosts', 'the', 'image', '(', 'typically', 'operated', 'by', 'a', 'third', 'party', ')', '.']), (0.015053761300526717, ['Publicly', 'available', 'sources', '.']), (0.01481083104639476, ['Please', 'note', 'that', 'subject', 'to', 'our', 'Private', 'Information', 'Removal', 'Policy', 'contributors', '’', 'requests', 'to', 'remove', 'personal', 'data', 'generally', 'require', 'notice', 'to', 'and', 'action', 'from', 'the', 'repository', 'owner.Other', 'companies', 'with', 'whom', 'you', 'choose', 'to', 'engage', '.']), (0.014242809524024019, ['This', 'allows', 'that', 'web', 'server', 'to', 'log', 'information', 'about', 'your', 'device', 'and', 'to', 'set', 'and', 'read', 'its', 'own', 'cookies', '.']), (0.013228368825914676, ['Such', 'processing', 'by', 'service', 'providers', 'will', 'be', 'in', 'compliance', 'with', 'applicable', 'law', 'including', 'any', 'relevant', 'transfer', 'mechanism', '.']), (0.010195288959312473, ['Mobile', 'identifiers', 'for', 'analytics', 'can', 'be', 'accessed', 'and', 'used', 'by', 'apps', 'on', 'mobile', 'devices', 'in', 'much', 'the', 'same', 'way', 'that', 'websites', 'access', 'and', 'use', 'cookies', '.'])]\n",
            "Indexes of top rank order are  [(0.18427054438770343, ['For', 'example', ',', 'we', 'may', 'retain', 'your', 'personal', 'data', 'for', 'longer', 'periods', ',', 'where', 'necessary', ',', 'subject', 'to', 'applicable', 'law', ',', 'for', 'security', 'purposes', '.']), (0.156765570028482, ['GitHub', 'takes', 'reasonable', 'measures', 'necessary', 'to', 'protect', 'your', 'personal', 'data', 'from', 'unauthorized', 'access', ',', 'alteration', ',', 'or', 'destruction', ';', 'maintain', 'data', 'accuracy', ';', 'and', 'help', 'ensure', 'the', 'appropriate', 'use', 'of', 'your', 'personal', 'data', '.']), (0.15482410431312535, ['Security', 'PoliciesCoordinated', 'Disclosure', 'of', 'Security', 'VulnerabilitiesGitHub', 'Bug', 'Bounty', 'Program', 'Legal', 'Safe', 'HarborCoordinated', 'Disclosure', 'of', 'Security', 'VulnerabilitiesHow', 'GitHub', 'secures', 'your', 'informationoperate', 'and', 'maintain', 'the', 'security', 'of', 'the', 'Service', ',', 'including', 'to', 'prevent', 'or', 'stop', 'an', 'attack', 'on', 'our', 'systems', 'or', 'networks', ';', 'or', 'We', 'retain', 'personal', 'data', 'for', 'as', 'long', 'as', 'necessary', 'to', 'provide', 'the', 'services', 'and', 'fulfill', 'the', 'transactions', 'you', 'have', 'requested', ',', 'comply', 'with', 'our', 'legal', 'obligations', ',', 'resolve', 'disputes', ',', 'enforce', 'our', 'agreements', ',', 'and', 'other', 'legitimate', 'and', 'lawful', 'business', 'purposes', '.']), (0.1544467654243767, ['Because', 'these', 'needs', 'can', 'vary', 'for', 'different', 'data', 'types', 'in', 'the', 'context', 'of', 'different', 'services', ',', 'actual', 'retention', 'periods', 'can', 'vary', 'significantly', 'based', 'on', 'criteria', 'such', 'as', 'user', 'expectations', 'or', 'consent', ',', 'the', 'sensitivity', 'of', 'the', 'data', ',', 'the', 'availability', 'of', 'automated', 'controls', 'that', 'enable', 'users', 'to', 'delete', 'data', ',', 'and', 'our', 'legal', 'or', 'contractual', 'obligations', '.']), (0.15034200943021156, ['GitHub', 'personnel', 'does', 'not', 'access', 'private', 'repository', 'content', 'except', 'forautomated', 'scanning', 'for', 'known', 'vulnerabilities', ',', 'active', 'malware', ',', 'or', 'other', 'content', 'known', 'to', 'violate', 'our', 'Terms', 'of', 'Serviceto', 'maintain', 'the', 'integrity', 'of', 'the', 'ServiceGitHub', 'will', 'provide', 'notice', 'regarding', 'private', 'repository', 'access', 'where', 'not', 'prohibited', 'by', 'law', 'or', 'if', 'in', 'response', 'to', 'a', 'security', 'threat', 'or', 'other', 'risk', 'to', 'security.GitHub', 'processes', 'personal', 'data', 'both', 'inside', 'and', 'outside', 'of', 'the', 'United', 'States', 'and', 'relies', 'on', 'legal', 'mechanisms', 'such', 'as', 'Standard', 'Contractual', 'Clauses', 'to', 'lawfully', 'transfer', 'data', 'from', 'the', 'European', 'Economic', 'Area', ',', 'the', 'United', 'Kingdom', ',', 'and', 'Switzerland', 'to', 'the', 'United', 'States', '.']), (0.146474141648939, ['To', 'help', 'us', 'protect', 'personal', 'data', ',', 'we', 'request', 'that', 'you', 'use', 'a', 'strong', 'password', 'and', 'never', 'share', 'your', 'password', 'with', 'anyone', 'or', 'use', 'the', 'same', 'password', 'with', 'other', 'sites', 'or', 'accounts.In', 'addition', ',', 'if', 'your', 'account', 'has', 'private', 'repositories', ',', 'you', 'control', 'the', 'access', 'to', 'that', 'Content', '.']), (0.05287686476716204, ['You', 'may', 'request', 'a', 'copy', 'of', 'the', 'Standard', 'Contractual', 'Clauses', 'using', 'the', 'contact', 'details', 'provided', 'in', 'the', 'section', 'entitled', '“', 'Contacting', 'GitHub', '”', 'below', '.'])]\n",
            "Indexes of top rank order are  [(0.04574929092682056, ['If', 'you', \"'re\", 'accessing', 'or', 'using', 'our', 'Service', ',', 'we', 'may', 'automatically', 'collect', 'information', 'about', 'how', 'you', 'use', 'the', 'Service', ',', 'such', 'as', 'the', 'pages', 'you', 'view', ',', 'the', 'referring', 'site', ',', 'your', 'IP', 'address', 'and', 'information', 'about', 'your', 'device', ',', 'session', 'information', ',', 'the', 'date', 'and', 'time', 'of', 'each', 'request', ',', 'information', 'contained', 'in', 'or', 'relating', 'to', 'your', 'contributions', 'to', 'individual', 'repositories', ',', 'and', 'telemetry', 'data', '(', 'i.e.', ',', 'information', 'about', 'how', 'a', 'specific', 'feature', 'or', 'service', 'is', 'performing', ')', 'regarding', 'your', 'use', 'of', 'other', 'features', 'and', 'functionality', 'of', 'the', 'Service.As', 'further', 'described', 'below', ',', 'we', 'automatically', 'collect', 'information', 'from', 'cookies', '(', 'such', 'as', 'cookie', 'ID', 'and', 'settings', ')', 'in', 'connection', 'with', 'our', 'Service.We', 'may', 'collect', 'information', 'about', 'your', 'device', ',', 'such', 'as', 'its', 'IP', 'address', ',', 'browser', 'or', 'client', 'application', 'information', ',', 'language', 'preference', ',', 'operating', 'system', 'and', 'application', 'version', ',', 'device', 'type', 'and', 'ID', ',', 'and', 'device', 'model', 'and', 'manufacturer', '.']), (0.04434342972366638, ['For', 'example', ',', 'we', 'infer', 'your', 'general', 'geographic', 'location', '(', 'such', 'as', 'city', ',', 'state', ',', 'and', 'country', ')', 'based', 'on', 'your', 'IP', 'address.We', 'may', 'use', 'your', 'information', 'to', 'provide', ',', 'administer', ',', 'analyze', ',', 'manage', ',', 'and', 'operate', 'our', 'Service', '.']), (0.04387091758181397, ['For', 'example', ':', 'If', 'you', 'have', 'a', 'paid', 'Account', 'with', 'us', ',', 'or', 'make', 'a', 'purchase', 'or', 'sale', 'using', 'our', 'Service', ',', 'we', 'automatically', 'collect', 'certain', 'information', 'about', 'your', 'transactions', 'on', 'the', 'Service', ',', 'such', 'as', 'your', 'full', 'name', ',', 'address', ',', 'region', ',', 'state', ',', 'country', ',', 'zip', 'code', ',', 'the', 'date', ',', 'time', ',', 'and', 'amount', 'charged', '.']), (0.04348515339142674, ['For', 'example', ':', 'We', 'collect', 'information', 'such', 'as', 'your', 'username', ',', 'email', 'address', ',', 'and', 'password', 'during', 'account', 'creation.In', 'some', 'cases', ',', 'we', 'request', 'that', 'you', 'provide', 'age', ',', 'gender', ',', 'and', 'similar', 'demographic', 'details.If', 'you', 'make', 'a', 'purchase', 'or', 'other', 'financial', 'transaction', ',', 'we', 'collect', 'credit', 'card', 'numbers', ',', 'financial', 'account', 'information', ',', 'and', 'other', 'payment', 'details.We', 'collect', 'any', 'photographs', ',', 'documents', ',', 'or', 'other', 'files', 'you', 'upload', 'to', 'our', 'Service', ';', 'and', 'if', 'you', 'send', 'us', 'email', 'messages', 'or', 'other', 'communications', ',', 'we', 'collect', 'and', 'retain', 'those', 'communications', '.']), (0.04334971146908434, ['For', 'example', ',', 'we', 'use', 'your', 'information', 'for', 'the', 'following', 'purposes', ':', 'Provide', 'our', 'products', 'and', 'deliver', 'our', 'services', 'including', 'troubleshooting', ',', 'improving', ',', 'and', 'personalizing', 'the', 'features', 'on', 'the', 'Service.Business', 'operations', 'such', 'as', 'billing', ',', 'accounting', ',', 'improving', 'our', 'internal', 'operations', ',', 'securing', 'our', 'systems', ',', 'detecting', 'fraudulent', 'or', 'illegal', 'activity', ',', 'and', 'meeting', 'our', 'legal', 'obligations.Improve', 'and', 'develop', 'our', 'products', 'and', 'services', 'including', 'to', 'develop', 'new', 'services', 'or', 'features', ',', 'and', 'conduct', 'research.Personalization', 'of', 'our', 'Service', 'by', 'understanding', 'you', 'and', 'your', 'preferences', 'to', 'enhance', 'your', 'experience', 'and', 'enjoyment', 'using', 'our', 'Service.Provide', 'customer', 'support', 'and', 'respond', 'to', 'your', 'questions.Deliver', 'promotional', 'communications', 'with', 'you', 'about', 'new', 'services', ',', 'features', ',', 'offers', ',', 'promotions', ',', 'and', 'other', 'information', 'about', 'our', 'Service.Personalize', 'and', 'measure', 'the', 'effectiveness', 'of', 'enterprise', 'business', 'ads', ',', 'promotional', 'communications', 'or', 'marketing', 'you', 'receive', 'related', 'to', 'the', 'Enterprise', 'Marketing', 'Pages.We', 'combine', 'data', 'we', 'collect', 'from', 'different', 'sources', 'for', 'these', 'purposes', 'and', 'to', 'give', 'you', 'a', 'more', 'seamless', ',', 'consistent', ',', 'and', 'personalized', 'experience.You', 'may', 'select', 'options', 'available', 'through', 'our', 'Service', 'to', 'publicly', 'display', 'and', 'share', 'your', 'name', 'and/or', 'username', 'and', 'certain', 'other', 'information', ',', 'such', 'as', 'your', 'profile', ',', 'demographic', 'data', ',', 'content', 'and', 'files', ',', 'or', 'geolocation', 'data', '.']), (0.04250187119172785, ['For', 'example', ',', 'you', 'may', 'choose', 'to', 'give', 'us', 'more', 'information', 'for', 'your', 'Account', 'profile', ',', 'such', 'as', 'your', 'full', 'name', ',', 'an', 'avatar', 'which', 'may', 'include', 'a', 'photograph', ',', 'your', 'biography', ',', 'your', 'location', ',', 'your', 'company', ',', 'and', 'a', 'URL', 'to', 'a', 'third-party', 'website', '.']), (0.040534031133359336, ['You', 'may', 'manage', 'your', 'communication', 'preferences', 'in', 'your', 'profile.Depending', 'on', 'your', 'email', 'settings', ',', 'GitHub', 'may', 'occasionally', 'send', 'notification', 'emails', ',', 'for', 'example', ',', 'about', 'changes', 'in', 'a', 'repository', 'you', '’', 're', 'watching', ',', 'new', 'features', ',', 'requests', 'for', 'feedback', ',', 'important', 'policy', 'changes', ',', 'or', 'to', 'offer', 'customer', 'support', '.']), (0.03935412995501307, ['If', 'you', 'disable', 'the', 'non-essential', 'cookies', 'on', 'the', 'Enterprise', 'Marketing', 'Pages', ',', 'the', 'ads', ',', 'content', ',', 'and', 'marketing', 'you', 'see', 'may', 'be', 'less', 'relevant.Our', 'emails', 'to', 'users', 'may', 'contain', 'a', 'pixel', 'tag', ',', 'which', 'is', 'a', 'small', ',', 'clear', 'image', 'that', 'can', 'tell', 'us', 'whether', 'or', 'not', 'you', 'have', 'opened', 'an', 'email', 'and', 'what', 'your', 'IP', 'address', 'is', '.']), (0.03934594934318593, ['We', 'rely', 'on', 'different', 'lawful', 'bases', 'for', 'collecting', 'and', 'processing', 'personal', 'data', 'about', 'you', ',', 'for', 'example', ',', 'with', 'your', 'consent', 'and/or', 'as', 'necessary', 'to', 'provide', 'the', 'services', 'you', 'use', ',', 'operate', 'our', 'business', ',', 'meet', 'our', 'contractual', 'and', 'legal', 'obligations', ',', 'protect', 'the', 'security', 'of', 'our', 'systems', 'and', 'our', 'customers', ',', 'or', 'fulfill', 'other', 'legitimate', 'interests.GitHub', 'uses', 'cookies', 'to', 'provide', ',', 'secure', 'and', 'improve', 'our', 'Service', 'or', 'to', 'develop', 'new', 'features', 'and', 'functionality', 'of', 'our', 'Service', '.']), (0.03783434241007734, ['We', 'collect', 'information', 'about', 'you', 'from', 'different', 'sources', 'and', 'in', 'various', 'ways', 'when', 'you', 'use', 'our', 'Service', ',', 'including', 'information', 'you', 'provide', 'directly', ',', 'information', 'collected', 'automatically', ',', 'third-party', 'data', 'sources', ',', 'and', 'data', 'we', 'infer', 'or', 'generate', 'from', 'other', 'data.We', 'collect', 'personal', 'data', 'you', 'provide', 'to', 'us', '.']), (0.03720401747636527, ['For', 'Enterprise', 'Marketing', 'Pages', ',', 'we', 'may', 'also', 'use', 'non-essential', 'cookies', 'to', '(', 'i', ')', 'gather', 'information', 'about', 'enterprise', 'users', '’', 'interests', 'and', 'online', 'activities', 'to', 'personalize', 'their', 'experiences', ',', 'including', 'by', 'making', 'the', 'ads', ',', 'content', ',', 'recommendations', ',', 'and', 'marketing', 'seen', 'or', 'received', 'more', 'relevant', 'and', '(', 'ii', ')', 'serve', 'and', 'measure', 'the', 'effectiveness', 'of', 'targeted', 'advertising', 'and', 'other', 'marketing', 'efforts', '.']), (0.037008800616822504, ['What', 'information', 'GitHub', 'collectsThe', 'personal', 'data', 'we', 'collect', 'depends', 'on', 'how', 'you', 'interact', 'with', 'us', ',', 'the', 'services', 'you', 'use', ',', 'and', 'the', 'choices', 'you', 'make', '.']), (0.0364335735724103, ['We', 'use', 'this', 'pixel', 'tag', 'to', 'make', 'our', 'email', 'communications', 'more', 'effective', 'and', 'to', 'make', 'sure', 'we', 'are', 'not', 'sending', 'you', 'unwanted', 'email.We', 'use', 'cookies', 'and', 'similar', 'technologies', ',', 'such', 'as', 'web', 'beacons', ',', 'local', 'storage', ',', 'and', 'mobile', 'analytics', ',', 'to', 'operate', 'and', 'provide', 'our', 'Services', '.']), (0.03615969254487042, ['When', 'visiting', 'Enterprise', 'Marketing', 'Pages', ',', 'like', 'resources.github.com', ',', 'these', 'and', 'additional', 'cookies', ',', 'like', 'advertising', 'IDs', ',', 'may', 'be', 'used', 'for', 'sales', 'and', 'marketing', 'purposes.Cookies', 'are', 'small', 'text', 'files', 'stored', 'by', 'your', 'browser', 'on', 'your', 'device', '.']), (0.03494160726624547, ['For', 'example', ',', 'if', 'you', 'contact', 'our', 'Support', 'team', 'with', 'a', 'request', ',', 'we', 'respond', 'to', 'you', 'via', 'email', '.']), (0.03423332226854574, ['For', 'example', ',', 'we', 'use', 'them', 'to', '(', 'i', ')', 'keep', 'you', 'logged', 'in', ',', '(', 'ii', ')', 'remember', 'your', 'preferences', ',', '(', 'iii', ')', 'identify', 'your', 'device', 'for', 'security', 'and', 'fraud', 'purposes', ',', 'including', 'as', 'needed', 'to', 'maintain', 'the', 'integrity', 'of', 'our', 'Service', ',', '(', 'iv', ')', 'compile', 'statistical', 'reports', ',', 'and', '(', 'v', ')', 'provide', 'information', 'and', 'insight', 'for', 'future', 'development', 'of', 'GitHub', '.']), (0.033374459828568015, ['For', 'example', ',', 'if', 'you', 'would', 'like', 'your', 'email', 'address', 'to', 'remain', 'private', ',', 'even', 'when', 'you', '’', 're', 'commenting', 'on', 'public', 'repositories', ',', 'you', 'can', 'adjust', 'your', 'setting', 'for', 'your', 'email', 'address', 'to', 'be', 'private', 'in', 'your', 'user', 'profile', '.']), (0.03183261236196809, ['Please', 'note', 'that', 'your', 'profile', 'information', 'may', 'be', 'visible', 'to', 'other', 'Users', 'of', 'our', 'Service.When', 'you', 'visit', 'or', 'use', 'our', 'Service', ',', 'we', 'collect', 'some', 'information', 'automatically', '.']), (0.03161127176053739, ['In', 'connection', 'with', 'certain', 'features', 'and', 'depending', 'on', 'the', 'functionality', 'of', 'the', 'Service', ',', 'we', 'collect', 'geolocation', 'information', 'such', 'as', 'through', 'IP', 'addresses', 'or', 'the', 'location', 'information', 'you', 'choose', 'to', 'provide', 'in', 'your', 'Account', 'profile.We', 'infer', 'new', 'information', 'from', 'other', 'data', 'we', 'collect', ',', 'including', 'using', 'automated', 'means', 'to', 'generate', 'information', 'about', 'your', 'likely', 'preferences', 'or', 'other', 'characteristics', '(', '“', 'inferences', '”', ')', '.']), (0.02956110539948279, ['We', 'use', 'your', 'email', 'address', 'to', 'communicate', 'with', 'you', ',', 'if', 'you', \"'ve\", 'said', 'that', \"'s\", 'okay', ',', 'and', 'only', 'for', 'the', 'reasons', 'you', '’', 've', 'said', 'that', '’', 's', 'okay', '.']), (0.029403705978351097, ['We', 'provide', 'more', 'information', 'about', 'cookies', 'on', 'GitHub', 'that', 'describes', 'the', 'cookies', 'we', 'set', ',', 'the', 'needs', 'we', 'have', 'for', 'those', 'cookies', ',', 'and', 'the', 'expiration', 'of', 'such', 'cookies', '.']), (0.026477964889012596, ['We', 'may', 'also', 'send', 'marketing', 'emails', ',', 'based', 'on', 'your', 'choices', 'and', 'in', 'accordance', 'with', 'applicable', 'laws', 'and', 'regulations', '.']), (0.02536461481378749, ['This', 'allows', 'the', 'web', 'server', 'to', 'recognize', 'your', 'browser', 'over', 'time', ',', 'each', 'time', 'it', 'connects', 'to', 'that', 'web', 'server.We', 'may', 'also', 'use', 'so-called', '“', 'flash', 'cookies', '”', '(', 'also', 'known', 'as', '“', 'Local', 'Shared', 'Objects', '”', 'or', '“', 'LSOs', '”', ')', 'to', 'collect', 'and', 'store', 'information', 'about', 'your', 'use', 'of', 'our', 'Services', '.']), (0.020381623021005324, ['Flash', 'cookies', 'are', 'commonly', 'used', 'for', 'advertisements', 'and', 'videos.to', 'assist', 'the', 'repository', 'owner', 'with', 'a', 'support', 'matterWe', 'use', 'the', 'categories', 'of', 'personal', 'information', 'described', 'above', 'for', 'the', 'purposes', 'listed', 'in', 'the', '“', 'How', 'GitHub', 'uses', 'your', 'information', '”', 'section', 'of', 'our', 'Privacy', 'Statement', '.']), (0.019573610120390057, ['Please', 'see', 'the', '“', 'How', 'we', 'share', 'the', 'information', 'we', 'collect', '”', 'section', 'of', 'our', 'Privacy', 'Statement', 'for', 'additional', 'details', '.']), (0.018694718233142112, ['We', 'also', 'disclose', 'the', 'categories', 'of', 'personal', 'information', 'listed', 'above', 'for', 'business', 'purposes', '.']), (0.01860671938365418, ['You', 'have', 'control', 'over', 'how', 'your', 'email', 'address', 'is', 'used', 'and', 'shared', 'on', 'and', 'through', 'our', 'Service', '.']), (0.018584118600513753, ['You', 'can', 'also', 'update', 'your', 'local', 'Git', 'configuration', 'to', 'use', 'your', 'private', 'email', 'address', '.']), (0.016781263895366123, ['The', 'text', 'in', 'a', 'cookie', 'contains', 'a', 'string', 'of', 'numbers', 'and', 'letters', 'that', 'may', 'uniquely', 'identify', 'your', 'device', 'and', 'can', 'contain', 'other', 'information', 'as', 'well', '.']), (0.01628093885175179, ['Please', 'see', 'more', 'about', 'email', 'addresses', 'in', 'commit', 'messages', 'here', '.']), (0.015259659764232663, ['There', \"'s\", 'an', '“', 'unsubscribe', '”', 'link', 'located', 'at', 'the', 'bottom', 'of', 'each', 'of', 'the', 'marketing', 'emails', 'we', 'send', 'you', '.']), (0.011861772226801202, ['A', 'cookie', 'can', 'later', 'be', 'read', 'when', 'your', 'browser', 'connects', 'to', 'a', 'web', 'server', 'in', 'the', 'same', 'domain', 'that', 'placed', 'the', 'cookie', '.'])]\n",
            "Indexes of top rank order are  [(0.06176429343277377, ['For', 'example', ':', 'If', 'your', 'browser', 'sends', 'a', 'Do', 'Not', 'Track', '(', 'DNT', ')', 'signal', ',', 'GitHub', 'will', 'not', 'set', 'non-essential', 'cookies', 'and', 'will', 'not', 'load', 'third', 'party', 'resources', 'which', 'set', 'non-essential', 'cookies.Many', 'browsers', 'provide', 'cookie', 'controls', 'which', 'may', 'limit', 'the', 'types', 'of', 'cookies', 'you', 'encounter', 'online', '.']), (0.06036263415723328, ['Check', 'out', 'the', 'documentation', 'for', 'your', 'browser', 'to', 'learn', 'more.If', 'you', 'enable', 'a', 'browser', 'extension', 'designed', 'to', 'block', 'tracking', ',', 'such', 'as', 'Privacy', 'Badger', ',', 'non-essential', 'cookies', 'set', 'by', 'a', 'website', 'or', 'third', 'parties', 'may', 'be', 'disabled.If', 'you', 'enable', 'a', 'browser', 'extension', 'designed', 'to', 'block', 'unwanted', 'content', ',', 'such', 'as', 'uBlock', 'Origin', ',', 'non-essential', 'cookies', 'will', 'be', 'disabled', 'to', 'the', 'extent', 'that', 'content', 'that', 'sets', 'non-essential', 'cookies', 'will', 'be', 'blocked', '.']), (0.058195500659921795, ['If', 'you', 'enable', 'a', 'browser', 'extension', 'designed', 'to', 'block', 'tracking', ',', 'such', 'as', 'Privacy', 'Badger', ',', 'non-essential', 'cookies', 'set', 'by', 'a', 'website', 'or', 'third', 'parties', 'may', 'be', 'disabled', '.']), (0.056830356165615006, ['If', 'you', 'enable', 'a', 'browser', 'extension', 'designed', 'to', 'block', 'unwanted', 'content', ',', 'such', 'as', 'uBlock', 'Origin', ',', 'non-essential', 'cookies', 'will', 'be', 'disabled', 'to', 'the', 'extent', 'that', 'content', 'that', 'sets', 'non-essential', 'cookies', 'will', 'be', 'blocked', '.']), (0.05659363011508801, ['Some', 'users', 'will', 'also', 'be', 'able', 'to', 'manage', 'non-essential', 'cookies', 'via', 'a', 'cookie', 'consent', 'banner', ',', 'including', 'the', 'options', 'to', 'accept', ',', 'manage', ',', 'and', 'reject', 'all', 'non-essential', 'cookies', '.']), (0.056191862849969916, ['You', 'can', 'express', 'your', 'preferences', 'at', 'any', 'time', 'by', 'clicking', 'on', 'that', 'linking', 'and', 'updating', 'your', 'settings.Some', 'users', 'will', 'also', 'be', 'able', 'to', 'manage', 'non-essential', 'cookies', 'via', 'a', 'cookie', 'consent', 'banner', ',', 'including', 'the', 'options', 'to', 'accept', ',', 'manage', ',', 'and', 'reject', 'all', 'non-essential', 'cookies', '.']), (0.05613317347598541, ['For', 'example', ':', 'If', 'your', 'browser', 'sends', 'a', 'Do', 'Not', 'Track', '(', 'DNT', ')', 'signal', ',', 'GitHub', 'will', 'not', 'set', 'non-essential', 'cookies', 'and', 'will', 'not', 'load', 'third', 'party', 'resources', 'which', 'set', 'non-essential', 'cookies', '.']), (0.05089296382056096, ['When', 'you', 'are', 'asked', 'to', 'provide', 'personal', 'data', ',', 'you', 'may', 'decline', '.']), (0.0478282744095845, ['Many', 'browsers', 'provide', 'cookie', 'controls', 'which', 'may', 'limit', 'the', 'types', 'of', 'cookies', 'you', 'encounter', 'online', '.']), (0.04742644367576926, ['You', 'have', 'several', 'options', 'to', 'disable', 'non-essential', 'cookies', ':', 'Specifically', 'on', 'GitHub', 'Enterprise', 'Marketing', 'Pages', 'Any', 'GitHub', 'page', 'that', 'serves', 'non-essential', 'cookies', 'will', 'have', 'a', 'link', 'in', 'the', 'page', '’', 's', 'footer', 'to', 'cookie', 'settings', '.']), (0.04562860858602097, ['Any', 'GitHub', 'page', 'that', 'serves', 'non-essential', 'cookies', 'will', 'have', 'a', 'link', 'in', 'the', 'page', '’', 's', 'footer', 'to', 'cookie', 'settings', '.']), (0.043385462456752094, ['You', 'can', 'control', 'the', 'cookies', 'you', 'encounter', 'on', 'the', 'web', 'using', 'a', 'variety', 'of', 'widely-available', 'tools', '.']), (0.04062974715560305, ['Generally', 'for', 'all', 'websites', 'You', 'can', 'control', 'the', 'cookies', 'you', 'encounter', 'on', 'the', 'web', 'using', 'a', 'variety', 'of', 'widely-available', 'tools', '.']), (0.0404124260230912, ['Advertising', 'controls', '.']), (0.03862613634806431, ['You', 'can', 'adjust', 'the', 'settings', 'on', 'your', 'Account', 'regarding', 'the', 'display', 'of', 'your', 'personal', 'data', 'in', 'private', 'or', 'public', 'repositories', 'or', 'personal', 'data', 'processed', 'in', 'connection', 'with', 'Community', 'Features', '(', 'such', 'as', 'GitHub', 'Feed', ',', 'GitHub', 'Sponsors', ',', 'and', 'GitHub', 'Explore', ')', 'through', 'profile', 'settings.Please', 'note', 'that', 'you', 'can', 'not', 'opt', 'out', 'of', 'receiving', 'important', 'communications', 'from', 'us', ',', 'such', 'as', 'emails', 'from', 'our', 'Support', 'team', 'or', 'system', 'emails', ',', 'but', 'you', 'can', 'configure', 'your', 'notifications', 'settings', 'in', 'your', 'profile', 'to', 'opt', 'out', 'of', 'other', 'communications', '.']), (0.03825857641661265, ['And', 'you', 'may', 'use', 'web', 'browser', 'or', 'operating', 'system', 'controls', 'to', 'prevent', 'certain', 'types', 'of', 'automatic', 'data', 'collection', '.']), (0.036922690173513635, ['But', 'if', 'you', 'choose', 'not', 'to', 'provide', 'or', 'allow', 'information', 'that', 'is', 'necessary', 'for', 'certain', 'services', 'or', 'features', ',', 'those', 'services', 'or', 'features', 'may', 'not', 'be', 'available', 'or', 'fully', 'functional.We', 'provide', 'choices', 'about', 'the', 'personal', 'data', 'we', 'collect', 'about', 'you', '.']), (0.03592075631298729, ['Check', 'out', 'the', 'documentation', 'for', 'your', 'browser', 'to', 'learn', 'more', '.']), (0.03506297783805912, ['If', 'you', 'access', 'our', 'Services', 'from', 'other', 'devices', 'or', 'browsers', ',', 'take', 'these', 'actions', 'from', 'those', 'systems', 'to', 'ensure', 'your', 'choices', 'apply', 'to', 'the', 'data', 'collected', 'when', 'you', 'use', 'those', 'systems', '.']), (0.03294734864291573, ['The', 'choices', 'you', 'make', 'will', 'not', 'apply', 'to', 'any', 'personal', 'data', 'associated', 'with', 'an', 'Organization', 'under', 'your', 'Account', '.']), (0.030479931652653898, ['Our', 'advertising', 'partners', 'may', 'participate', 'in', 'associations', 'that', 'provide', 'simple', 'ways', 'to', 'opt', 'out', 'of', 'ad', 'targeting', ',', 'which', 'you', 'can', 'access', 'at', ':', 'United', 'States', ':', 'NAI', 'and', 'DAA', 'Canada', ':', 'Digital', 'Advertising', 'Alliance', 'of', 'Canada', 'Europe', ':', 'European', 'Digital', 'Advertising', 'Alliance', 'These', 'choices', 'are', 'specific', 'to', 'the', 'browser', 'you', 'are', 'using', '.']), (0.02950620563122432, ['You', 'can', 'express', 'your', 'preferences', 'at', 'any', 'time', 'by', 'clicking', 'on', 'that', 'linking', 'and', 'updating', 'your', 'settings', '.'])]\n"
          ]
        }
      ]
    },
    {
      "cell_type": "code",
      "source": [
        "joinedData.keys()"
      ],
      "metadata": {
        "colab": {
          "base_uri": "https://localhost:8080/"
        },
        "id": "DbzALhL8bcSl",
        "outputId": "5da7915e-6fb9-4086-e113-44429148bfb4"
      },
      "execution_count": null,
      "outputs": [
        {
          "output_type": "execute_result",
          "data": {
            "text/plain": [
              "dict_keys(['Third Party Sharing/Collection', 'Data Security', 'First Party Collection/Use', 'Policy Change', 'User Choice/Control'])"
            ]
          },
          "metadata": {},
          "execution_count": 129
        }
      ]
    },
    {
      "cell_type": "code",
      "source": [
        "displayOutput(opt, user)"
      ],
      "metadata": {
        "colab": {
          "base_uri": "https://localhost:8080/"
        },
        "id": "GNmEIFEzfbp5",
        "outputId": "531dcc7e-f2a7-470f-916c-38bbd53df318"
      },
      "execution_count": null,
      "outputs": [
        {
          "output_type": "stream",
          "name": "stdout",
          "text": [
            "OLD MALE\n",
            "\n",
            "Third Party Sharing/Collection\n",
            "For example , our service providers may perform payment processing , customer support ticketing , network data transmission , web analytics , marketing operations , security , and other similar services . We enable access to personal data across our subsidiaries , affiliates , and related companies , for example , where we share common data systems , when affiliates provide services on our behalf , or where access is needed to operate and provide the Service . For example , this may happen if you sign up for training or to receive information about GitHub from one of our vendors , partners , or affiliates . For example , our analytics and advertising partners may use these technologies in our Services to collect personal information ( such as the pages you visit , the links you click on , and similar usage information , identifiers , and device information ) related to your online activities over time and across Services for various purposes , including targeted advertising . In addition , we may share each of the categories of your personal data described above with the types of third parties described below for the following business purposes : Please note that if you would like to compile GitHub data , you must comply with our Terms of Service regarding information usage and privacy , and you may only use any public-facing information you gather for the purpose for which our user authorized it .\n",
            "\n",
            "\n",
            "Data Security\n",
            "For example , we may retain your personal data for longer periods , where necessary , subject to applicable law , for security purposes . GitHub takes reasonable measures necessary to protect your personal data from unauthorized access , alteration , or destruction ; maintain data accuracy ; and help ensure the appropriate use of your personal data . Security PoliciesCoordinated Disclosure of Security VulnerabilitiesGitHub Bug Bounty Program Legal Safe HarborCoordinated Disclosure of Security VulnerabilitiesHow GitHub secures your informationoperate and maintain the security of the Service , including to prevent or stop an attack on our systems or networks ; or We retain personal data for as long as necessary to provide the services and fulfill the transactions you have requested , comply with our legal obligations , resolve disputes , enforce our agreements , and other legitimate and lawful business purposes . Because these needs can vary for different data types in the context of different services , actual retention periods can vary significantly based on criteria such as user expectations or consent , the sensitivity of the data , the availability of automated controls that enable users to delete data , and our legal or contractual obligations . GitHub personnel does not access private repository content except forautomated scanning for known vulnerabilities , active malware , or other content known to violate our Terms of Serviceto maintain the integrity of the ServiceGitHub will provide notice regarding private repository access where not prohibited by law or if in response to a security threat or other risk to security.GitHub processes personal data both inside and outside of the United States and relies on legal mechanisms such as Standard Contractual Clauses to lawfully transfer data from the European Economic Area , the United Kingdom , and Switzerland to the United States .\n",
            "\n",
            "\n",
            "First Party Collection/Use\n",
            "If you 're accessing or using our Service , we may automatically collect information about how you use the Service , such as the pages you view , the referring site , your IP address and information about your device , session information , the date and time of each request , information contained in or relating to your contributions to individual repositories , and telemetry data ( i.e. , information about how a specific feature or service is performing ) regarding your use of other features and functionality of the Service.As further described below , we automatically collect information from cookies ( such as cookie ID and settings ) in connection with our Service.We may collect information about your device , such as its IP address , browser or client application information , language preference , operating system and application version , device type and ID , and device model and manufacturer . For example , we infer your general geographic location ( such as city , state , and country ) based on your IP address.We may use your information to provide , administer , analyze , manage , and operate our Service . For example : If you have a paid Account with us , or make a purchase or sale using our Service , we automatically collect certain information about your transactions on the Service , such as your full name , address , region , state , country , zip code , the date , time , and amount charged . For example : We collect information such as your username , email address , and password during account creation.In some cases , we request that you provide age , gender , and similar demographic details.If you make a purchase or other financial transaction , we collect credit card numbers , financial account information , and other payment details.We collect any photographs , documents , or other files you upload to our Service ; and if you send us email messages or other communications , we collect and retain those communications . For example , we use your information for the following purposes : Provide our products and deliver our services including troubleshooting , improving , and personalizing the features on the Service.Business operations such as billing , accounting , improving our internal operations , securing our systems , detecting fraudulent or illegal activity , and meeting our legal obligations.Improve and develop our products and services including to develop new services or features , and conduct research.Personalization of our Service by understanding you and your preferences to enhance your experience and enjoyment using our Service.Provide customer support and respond to your questions.Deliver promotional communications with you about new services , features , offers , promotions , and other information about our Service.Personalize and measure the effectiveness of enterprise business ads , promotional communications or marketing you receive related to the Enterprise Marketing Pages.We combine data we collect from different sources for these purposes and to give you a more seamless , consistent , and personalized experience.You may select options available through our Service to publicly display and share your name and/or username and certain other information , such as your profile , demographic data , content and files , or geolocation data .\n",
            "\n",
            "\n",
            "Policy Change\n",
            "Changes to our Privacy StatementAlthough most changes are likely to be minor, GitHub may change our Privacy Statement from time to time. We will provide notification to Users of material changes to this Privacy Statement through our Website at least 30 days prior to the change taking effect by posting a notice on our home page or sending email to the primary email address specified in your GitHub account. We will also update our Site Policy repository, which tracks all changes to this policy. For other changes to this Privacy Statement, we encourage Users to watch or to check our Site Policy repository frequently.\n",
            "\n",
            "\n",
            "User Choice/Control\n",
            "For example : If your browser sends a Do Not Track ( DNT ) signal , GitHub will not set non-essential cookies and will not load third party resources which set non-essential cookies.Many browsers provide cookie controls which may limit the types of cookies you encounter online . Check out the documentation for your browser to learn more.If you enable a browser extension designed to block tracking , such as Privacy Badger , non-essential cookies set by a website or third parties may be disabled.If you enable a browser extension designed to block unwanted content , such as uBlock Origin , non-essential cookies will be disabled to the extent that content that sets non-essential cookies will be blocked . If you enable a browser extension designed to block tracking , such as Privacy Badger , non-essential cookies set by a website or third parties may be disabled . If you enable a browser extension designed to block unwanted content , such as uBlock Origin , non-essential cookies will be disabled to the extent that content that sets non-essential cookies will be blocked . Some users will also be able to manage non-essential cookies via a cookie consent banner , including the options to accept , manage , and reject all non-essential cookies .\n",
            "\n",
            "\n"
          ]
        }
      ]
    },
    {
      "cell_type": "code",
      "source": [
        "initialCount = countWords(\"ini\", rawData)\n",
        "finalCount = countWords(\"\", opt)\n",
        "print(\"Initial count = \" + str(initialCount))\n",
        "print(\"\\nFinal count = \" + str(finalCount))"
      ],
      "metadata": {
        "colab": {
          "base_uri": "https://localhost:8080/"
        },
        "id": "X7Vey6Yv44SC",
        "outputId": "1f75e4ee-83f8-4bc8-9de3-aa2f18af0f65"
      },
      "execution_count": null,
      "outputs": [
        {
          "output_type": "stream",
          "name": "stdout",
          "text": [
            "Initial count = 6892\n",
            "\n",
            "Final count = 1411\n"
          ]
        }
      ]
    },
    {
      "cell_type": "code",
      "source": [],
      "metadata": {
        "id": "1lT3sauK8ZzH"
      },
      "execution_count": null,
      "outputs": []
    }
  ]
}